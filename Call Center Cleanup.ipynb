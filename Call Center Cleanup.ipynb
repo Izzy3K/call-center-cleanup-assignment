{
 "cells": [
  {
   "cell_type": "markdown",
   "id": "458bdb75",
   "metadata": {},
   "source": [
    "# Call Center Cleanup\n",
    "\n",
    "For this assignment, we will be working with call center data. You can start working on the assignment after the first lesson on Exploratory Data Analysis. Make sure to read the whole assignment before starting anything! As you code along in the Jupyter notebook, you are asked to make note of the results of your analysis. Do so by clicking on the results box and adding your notes beside each question.\n",
    "\n",
    "## Business Issue and Understanding\n",
    "\n",
    "You are working for a company that has two call centers: the North Call Center and the South Call Center. The company is looking to possibly hire five additional reps to enhance customer experience. Your task is to explore how efficient the current reps are in each branch to determine which branch would benefit from additional assistance.\n",
    "\n",
    "### How the Call Center Works\n",
    "\n",
    "Call center representatives are assigned queues. When calls are assigned to a queue, the call is assigned to the next person in line in the queue. After a call is assigned to a representative, the amount of time between assignment and the call starting is divided into busy minutes and not ready minutes. If the call is incoming and a customer is waiting on the phone for a rep, the time is split into three categories: busy minutes, not ready minutes, and incoming call wait time. Once the rep has the customer on the phone, there might be during call wait time, where the call is put on hold while the rep gets an answer for the customer.\n",
    "\n",
    "### Notes about the Dataset\n",
    "\n",
    "If you haven't worked in a call center before, these notes might help you throughout your analysis.\n",
    "\n",
    "* The call purpose is tagged for each call.\n",
    "* The time of the call is tagged in 1 hour blocks starting at 9:00 AM and ending at 5:00 PM.\n",
    "* Calls are tagged as incoming or outgoing.\n",
    "* Reps are assigned to queues. When the reps are working, they take calls in the order of their queue.\n",
    "* A call that is dropped due to technical error or missed by the center because they have reached maximum capacity is a lost call.\n",
    "* An abandoned call is when the customer hangs up because they have been waiting for too long.\n",
    "* Busy Minutes: the amount of time after a call comes in or needs to go out where the assigned rep is not available because they are busy with other customers.\n",
    "* Not Ready Minutes: the amount of time after a call comes in or needs to go out where the assigned rep is not available because they are not ready (for example, getting water).\n",
    "* Incoming Wait Time - amount of time after assigned rep is available to take the call customer waits for representative to pick up a call. This is tracked in seconds.\n",
    "* During Call Wait Time - amount of time during call that customer has to wait for representative\n",
    "\n",
    "## Getting Started\n",
    "\n",
    "You have two CSVs at your disposal, `NorthCallCenter.csv` and `SouthCallCenter.csv`. Import the appropriate libraries and create two dataframes, one called `north_df` and one called `south_df`."
   ]
  },
  {
   "cell_type": "code",
   "execution_count": 48,
   "id": "49aada97",
   "metadata": {},
   "outputs": [],
   "source": [
    "# Import the appropriate libraries\n",
    "\n",
    "import pandas as pd\n",
    "\n",
    "# Create two new dataframes\n",
    "north_df= pd.read_csv(\"NorthCallCenter.csv\")\n",
    "south_df= pd.read_csv (\"SouthCallCenter.csv\")"
   ]
  },
  {
   "cell_type": "code",
   "execution_count": 49,
   "id": "ac07dee9-cea6-48bf-8e6c-017a59f8d91d",
   "metadata": {},
   "outputs": [
    {
     "data": {
      "text/html": [
       "<div>\n",
       "<style scoped>\n",
       "    .dataframe tbody tr th:only-of-type {\n",
       "        vertical-align: middle;\n",
       "    }\n",
       "\n",
       "    .dataframe tbody tr th {\n",
       "        vertical-align: top;\n",
       "    }\n",
       "\n",
       "    .dataframe thead th {\n",
       "        text-align: right;\n",
       "    }\n",
       "</style>\n",
       "<table border=\"1\" class=\"dataframe\">\n",
       "  <thead>\n",
       "    <tr style=\"text-align: right;\">\n",
       "      <th></th>\n",
       "      <th>Unnamed: 0</th>\n",
       "      <th>Branch</th>\n",
       "      <th>Call Purpose</th>\n",
       "      <th>Time Block</th>\n",
       "      <th>Incoming or Outgoing</th>\n",
       "      <th>Queue</th>\n",
       "      <th>Rep ID</th>\n",
       "      <th>Sale</th>\n",
       "      <th>Lost Call</th>\n",
       "      <th>Abandoned</th>\n",
       "      <th>Busy Minutes</th>\n",
       "      <th>Not Ready Minutes</th>\n",
       "      <th>Incoming Wait Time</th>\n",
       "      <th>During Call Wait Time</th>\n",
       "      <th>Calls</th>\n",
       "    </tr>\n",
       "  </thead>\n",
       "  <tbody>\n",
       "    <tr>\n",
       "      <th>0</th>\n",
       "      <td>0</td>\n",
       "      <td>North</td>\n",
       "      <td>Complaint</td>\n",
       "      <td>9:00 AM</td>\n",
       "      <td>Incoming</td>\n",
       "      <td>B</td>\n",
       "      <td>Brent</td>\n",
       "      <td>NO</td>\n",
       "      <td>0</td>\n",
       "      <td>1</td>\n",
       "      <td>9</td>\n",
       "      <td>2</td>\n",
       "      <td>1.0</td>\n",
       "      <td>4</td>\n",
       "      <td>1</td>\n",
       "    </tr>\n",
       "    <tr>\n",
       "      <th>1</th>\n",
       "      <td>1</td>\n",
       "      <td>North</td>\n",
       "      <td>Sales Support</td>\n",
       "      <td>11:00 AM</td>\n",
       "      <td>Incoming</td>\n",
       "      <td>A</td>\n",
       "      <td>Cam</td>\n",
       "      <td>NO</td>\n",
       "      <td>0</td>\n",
       "      <td>0</td>\n",
       "      <td>11</td>\n",
       "      <td>1</td>\n",
       "      <td>1.0</td>\n",
       "      <td>3</td>\n",
       "      <td>1</td>\n",
       "    </tr>\n",
       "    <tr>\n",
       "      <th>2</th>\n",
       "      <td>2</td>\n",
       "      <td>North</td>\n",
       "      <td>Sales Support</td>\n",
       "      <td>11:00 AM</td>\n",
       "      <td>Incoming</td>\n",
       "      <td>B</td>\n",
       "      <td>Todd</td>\n",
       "      <td>NO</td>\n",
       "      <td>0</td>\n",
       "      <td>0</td>\n",
       "      <td>9</td>\n",
       "      <td>3</td>\n",
       "      <td>1.0</td>\n",
       "      <td>3</td>\n",
       "      <td>1</td>\n",
       "    </tr>\n",
       "    <tr>\n",
       "      <th>3</th>\n",
       "      <td>3</td>\n",
       "      <td>North</td>\n",
       "      <td>Sales Support</td>\n",
       "      <td>4:00 PM</td>\n",
       "      <td>Incoming</td>\n",
       "      <td>B</td>\n",
       "      <td>Brent</td>\n",
       "      <td>NO</td>\n",
       "      <td>0</td>\n",
       "      <td>0</td>\n",
       "      <td>11</td>\n",
       "      <td>2</td>\n",
       "      <td>1.0</td>\n",
       "      <td>4</td>\n",
       "      <td>1</td>\n",
       "    </tr>\n",
       "    <tr>\n",
       "      <th>4</th>\n",
       "      <td>4</td>\n",
       "      <td>North</td>\n",
       "      <td>Product Support</td>\n",
       "      <td>12:00 PM</td>\n",
       "      <td>Incoming</td>\n",
       "      <td>B</td>\n",
       "      <td>Brent</td>\n",
       "      <td>NO</td>\n",
       "      <td>0</td>\n",
       "      <td>0</td>\n",
       "      <td>8</td>\n",
       "      <td>2</td>\n",
       "      <td>1.0</td>\n",
       "      <td>4</td>\n",
       "      <td>1</td>\n",
       "    </tr>\n",
       "  </tbody>\n",
       "</table>\n",
       "</div>"
      ],
      "text/plain": [
       "   Unnamed: 0 Branch     Call Purpose Time Block Incoming or Outgoing Queue  \\\n",
       "0           0  North        Complaint    9:00 AM             Incoming     B   \n",
       "1           1  North    Sales Support   11:00 AM             Incoming     A   \n",
       "2           2  North    Sales Support   11:00 AM             Incoming     B   \n",
       "3           3  North    Sales Support    4:00 PM             Incoming     B   \n",
       "4           4  North  Product Support   12:00 PM             Incoming     B   \n",
       "\n",
       "  Rep ID Sale  Lost Call  Abandoned  Busy Minutes  Not Ready Minutes  \\\n",
       "0  Brent   NO          0          1             9                  2   \n",
       "1    Cam   NO          0          0            11                  1   \n",
       "2   Todd   NO          0          0             9                  3   \n",
       "3  Brent   NO          0          0            11                  2   \n",
       "4  Brent   NO          0          0             8                  2   \n",
       "\n",
       "   Incoming Wait Time  During Call Wait Time  Calls  \n",
       "0                 1.0                      4      1  \n",
       "1                 1.0                      3      1  \n",
       "2                 1.0                      3      1  \n",
       "3                 1.0                      4      1  \n",
       "4                 1.0                      4      1  "
      ]
     },
     "execution_count": 49,
     "metadata": {},
     "output_type": "execute_result"
    }
   ],
   "source": [
    "north_df.head()"
   ]
  },
  {
   "cell_type": "code",
   "execution_count": 50,
   "id": "84db40cb-7e94-44b3-92b8-16e5d66381d9",
   "metadata": {},
   "outputs": [
    {
     "data": {
      "text/html": [
       "<div>\n",
       "<style scoped>\n",
       "    .dataframe tbody tr th:only-of-type {\n",
       "        vertical-align: middle;\n",
       "    }\n",
       "\n",
       "    .dataframe tbody tr th {\n",
       "        vertical-align: top;\n",
       "    }\n",
       "\n",
       "    .dataframe thead th {\n",
       "        text-align: right;\n",
       "    }\n",
       "</style>\n",
       "<table border=\"1\" class=\"dataframe\">\n",
       "  <thead>\n",
       "    <tr style=\"text-align: right;\">\n",
       "      <th></th>\n",
       "      <th>Unnamed: 0</th>\n",
       "      <th>Branch</th>\n",
       "      <th>Call Purpose</th>\n",
       "      <th>Time Block</th>\n",
       "      <th>Incoming or Outgoing</th>\n",
       "      <th>Queue</th>\n",
       "      <th>Rep ID</th>\n",
       "      <th>Sale</th>\n",
       "      <th>Lost Call</th>\n",
       "      <th>Abandoned</th>\n",
       "      <th>Busy Minutes</th>\n",
       "      <th>Not Ready Minutes</th>\n",
       "      <th>Incoming Wait Time</th>\n",
       "      <th>During Call Wait Time</th>\n",
       "      <th>Calls</th>\n",
       "    </tr>\n",
       "  </thead>\n",
       "  <tbody>\n",
       "    <tr>\n",
       "      <th>0</th>\n",
       "      <td>0</td>\n",
       "      <td>South</td>\n",
       "      <td>Sales Support</td>\n",
       "      <td>10:00 AM</td>\n",
       "      <td>Incoming</td>\n",
       "      <td>D</td>\n",
       "      <td>Kate</td>\n",
       "      <td>NO</td>\n",
       "      <td>0</td>\n",
       "      <td>0</td>\n",
       "      <td>9</td>\n",
       "      <td>1</td>\n",
       "      <td>1.0</td>\n",
       "      <td>2</td>\n",
       "      <td>1</td>\n",
       "    </tr>\n",
       "    <tr>\n",
       "      <th>1</th>\n",
       "      <td>1</td>\n",
       "      <td>South</td>\n",
       "      <td>Sales Support</td>\n",
       "      <td>10:00 AM</td>\n",
       "      <td>Incoming</td>\n",
       "      <td>C</td>\n",
       "      <td>Eric</td>\n",
       "      <td>NO</td>\n",
       "      <td>0</td>\n",
       "      <td>0</td>\n",
       "      <td>8</td>\n",
       "      <td>2</td>\n",
       "      <td>1.0</td>\n",
       "      <td>4</td>\n",
       "      <td>1</td>\n",
       "    </tr>\n",
       "    <tr>\n",
       "      <th>2</th>\n",
       "      <td>2</td>\n",
       "      <td>South</td>\n",
       "      <td>Sales Support</td>\n",
       "      <td>10:00 AM</td>\n",
       "      <td>Incoming</td>\n",
       "      <td>C</td>\n",
       "      <td>Susan</td>\n",
       "      <td>NO</td>\n",
       "      <td>0</td>\n",
       "      <td>0</td>\n",
       "      <td>10</td>\n",
       "      <td>2</td>\n",
       "      <td>1.0</td>\n",
       "      <td>4</td>\n",
       "      <td>1</td>\n",
       "    </tr>\n",
       "    <tr>\n",
       "      <th>3</th>\n",
       "      <td>3</td>\n",
       "      <td>South</td>\n",
       "      <td>Sales Support</td>\n",
       "      <td>10:00 AM</td>\n",
       "      <td>Incoming</td>\n",
       "      <td>C</td>\n",
       "      <td>Alice</td>\n",
       "      <td>NO</td>\n",
       "      <td>0</td>\n",
       "      <td>0</td>\n",
       "      <td>12</td>\n",
       "      <td>1</td>\n",
       "      <td>1.0</td>\n",
       "      <td>3</td>\n",
       "      <td>1</td>\n",
       "    </tr>\n",
       "    <tr>\n",
       "      <th>4</th>\n",
       "      <td>4</td>\n",
       "      <td>South</td>\n",
       "      <td>Sales Support</td>\n",
       "      <td>12:00 PM</td>\n",
       "      <td>Incoming</td>\n",
       "      <td>C</td>\n",
       "      <td>Sandy</td>\n",
       "      <td>NO</td>\n",
       "      <td>0</td>\n",
       "      <td>0</td>\n",
       "      <td>8</td>\n",
       "      <td>3</td>\n",
       "      <td>1.0</td>\n",
       "      <td>3</td>\n",
       "      <td>1</td>\n",
       "    </tr>\n",
       "  </tbody>\n",
       "</table>\n",
       "</div>"
      ],
      "text/plain": [
       "   Unnamed: 0 Branch   Call Purpose Time Block Incoming or Outgoing Queue  \\\n",
       "0           0  South  Sales Support   10:00 AM             Incoming     D   \n",
       "1           1  South  Sales Support   10:00 AM             Incoming     C   \n",
       "2           2  South  Sales Support   10:00 AM             Incoming     C   \n",
       "3           3  South  Sales Support   10:00 AM             Incoming     C   \n",
       "4           4  South  Sales Support   12:00 PM             Incoming     C   \n",
       "\n",
       "  Rep ID Sale  Lost Call  Abandoned  Busy Minutes  Not Ready Minutes  \\\n",
       "0   Kate   NO          0          0             9                  1   \n",
       "1   Eric   NO          0          0             8                  2   \n",
       "2  Susan   NO          0          0            10                  2   \n",
       "3  Alice   NO          0          0            12                  1   \n",
       "4  Sandy   NO          0          0             8                  3   \n",
       "\n",
       "   Incoming Wait Time  During Call Wait Time  Calls  \n",
       "0                 1.0                      2      1  \n",
       "1                 1.0                      4      1  \n",
       "2                 1.0                      4      1  \n",
       "3                 1.0                      3      1  \n",
       "4                 1.0                      3      1  "
      ]
     },
     "execution_count": 50,
     "metadata": {},
     "output_type": "execute_result"
    }
   ],
   "source": [
    "south_df.head()"
   ]
  },
  {
   "cell_type": "markdown",
   "id": "a644531e",
   "metadata": {},
   "source": [
    "## Exploratory Data Analysis\n",
    "\n",
    "Time to do some EDA! In the process of learning more about the two datasets, make sure you answer the following questions:\n",
    "\n",
    "1. How many reps are in each branch?\n",
    "2. What is the average busy minutes, not ready minutes, incoming wait time, and during call wait time for each branch?\n",
    "3. What is the number of calls taken for each time block?"
   ]
  },
  {
   "cell_type": "code",
   "execution_count": 51,
   "id": "05a06a1f",
   "metadata": {},
   "outputs": [
    {
     "data": {
      "text/plain": [
       "9"
      ]
     },
     "execution_count": 51,
     "metadata": {},
     "output_type": "execute_result"
    }
   ],
   "source": [
    "#Reps in north branch\n",
    "north_reps = north_df['Rep ID'].unique()\n",
    "north_reps\n",
    "len (north_reps)"
   ]
  },
  {
   "cell_type": "code",
   "execution_count": 52,
   "id": "4976bfb8",
   "metadata": {},
   "outputs": [
    {
     "data": {
      "text/plain": [
       "11"
      ]
     },
     "execution_count": 52,
     "metadata": {},
     "output_type": "execute_result"
    }
   ],
   "source": [
    "#Reps in south branch \n",
    "south_reps = south_df['Rep ID'].unique()\n",
    "south_reps\n",
    "len (south_reps)"
   ]
  },
  {
   "cell_type": "code",
   "execution_count": 53,
   "id": "17d97c28",
   "metadata": {},
   "outputs": [
    {
     "data": {
      "text/plain": [
       "9.987755102040817"
      ]
     },
     "execution_count": 53,
     "metadata": {},
     "output_type": "execute_result"
    }
   ],
   "source": [
    "\n",
    "north_df['Busy Minutes'].mean()\n",
    "#Avg busy minutes north\n"
   ]
  },
  {
   "cell_type": "code",
   "execution_count": 54,
   "id": "ad625727",
   "metadata": {},
   "outputs": [
    {
     "data": {
      "text/plain": [
       "10.054140127388536"
      ]
     },
     "execution_count": 54,
     "metadata": {},
     "output_type": "execute_result"
    }
   ],
   "source": [
    "#Avg busy minutes south\n",
    "south_df['Busy Minutes'].mean()"
   ]
  },
  {
   "cell_type": "code",
   "execution_count": 55,
   "id": "42d1698c",
   "metadata": {},
   "outputs": [
    {
     "data": {
      "text/plain": [
       "1.9142857142857144"
      ]
     },
     "execution_count": 55,
     "metadata": {},
     "output_type": "execute_result"
    }
   ],
   "source": [
    "#avg not ready minutes north\n",
    "north_df ['Not Ready Minutes'].mean()\n",
    " "
   ]
  },
  {
   "cell_type": "code",
   "execution_count": 56,
   "id": "2238c25d",
   "metadata": {},
   "outputs": [
    {
     "data": {
      "text/plain": [
       "1.910828025477707"
      ]
     },
     "execution_count": 56,
     "metadata": {},
     "output_type": "execute_result"
    }
   ],
   "source": [
    "#Avg not ready minutes south \n",
    "south_df ['Not Ready Minutes'].mean()"
   ]
  },
  {
   "cell_type": "code",
   "execution_count": 57,
   "id": "906bf7b4",
   "metadata": {},
   "outputs": [
    {
     "data": {
      "text/plain": [
       "3.048780487804878"
      ]
     },
     "execution_count": 57,
     "metadata": {},
     "output_type": "execute_result"
    }
   ],
   "source": [
    "#avg incoming wait time north\n",
    "north_df ['Incoming Wait Time'].mean()"
   ]
  },
  {
   "cell_type": "code",
   "execution_count": 58,
   "id": "0f0febd4",
   "metadata": {},
   "outputs": [
    {
     "data": {
      "text/plain": [
       "3.0"
      ]
     },
     "execution_count": 58,
     "metadata": {},
     "output_type": "execute_result"
    }
   ],
   "source": [
    "#avg incoming wait time south\n",
    "south_df ['Incoming Wait Time'].mean()"
   ]
  },
  {
   "cell_type": "code",
   "execution_count": 59,
   "id": "7107173b",
   "metadata": {},
   "outputs": [
    {
     "data": {
      "text/plain": [
       "2.9673469387755103"
      ]
     },
     "execution_count": 59,
     "metadata": {},
     "output_type": "execute_result"
    }
   ],
   "source": [
    "#avg during call wait time north\n",
    "north_df ['During Call Wait Time'].mean()"
   ]
  },
  {
   "cell_type": "code",
   "execution_count": 60,
   "id": "2149f8fd",
   "metadata": {},
   "outputs": [
    {
     "data": {
      "text/plain": [
       "3.0764331210191083"
      ]
     },
     "execution_count": 60,
     "metadata": {},
     "output_type": "execute_result"
    }
   ],
   "source": [
    "#avg during call wait time south\n",
    "south_df ['During Call Wait Time'].mean()\n",
    "\n",
    " "
   ]
  },
  {
   "cell_type": "code",
   "execution_count": 61,
   "id": "8dfb47e2",
   "metadata": {},
   "outputs": [
    {
     "data": {
      "text/plain": [
       "14     12:00 PM\n",
       "15      1:00 PM\n",
       "16      3:00 PM\n",
       "17      2:00 PM\n",
       "18     10:00 AM\n",
       "         ...   \n",
       "240     5:00 PM\n",
       "241     5:00 PM\n",
       "242     5:00 PM\n",
       "243     5:00 PM\n",
       "244     5:00 PM\n",
       "Name: Time Block, Length: 231, dtype: object"
      ]
     },
     "execution_count": 61,
     "metadata": {},
     "output_type": "execute_result"
    }
   ],
   "source": [
    "#time_north = north_df['Time Block']\n",
    "#time_north\n",
    "#Time Block: amount of calls \n",
    "time_north = north_df.iloc[14:,3]\n",
    "time_north"
   ]
  },
  {
   "cell_type": "code",
   "execution_count": null,
   "id": "e9238154",
   "metadata": {},
   "outputs": [],
   "source": []
  },
  {
   "cell_type": "code",
   "execution_count": null,
   "id": "a2855508",
   "metadata": {},
   "outputs": [],
   "source": []
  },
  {
   "cell_type": "code",
   "execution_count": null,
   "id": "47e12a36",
   "metadata": {},
   "outputs": [],
   "source": []
  },
  {
   "cell_type": "code",
   "execution_count": 62,
   "id": "527ff67c",
   "metadata": {},
   "outputs": [
    {
     "data": {
      "text/plain": [
       "14      5:00 PM\n",
       "15     11:00 AM\n",
       "16     12:00 PM\n",
       "17      1:00 PM\n",
       "18      1:00 PM\n",
       "         ...   \n",
       "309     5:00 PM\n",
       "310     5:00 PM\n",
       "311     5:00 PM\n",
       "312     5:00 PM\n",
       "313     5:00 PM\n",
       "Name: Time Block, Length: 300, dtype: object"
      ]
     },
     "execution_count": 62,
     "metadata": {},
     "output_type": "execute_result"
    }
   ],
   "source": [
    "#time_south = south_df ['Time Block']\n",
    "#time_south\n",
    "\n",
    "time_south = south_df.iloc[14:,3]\n",
    "time_south"
   ]
  },
  {
   "cell_type": "code",
   "execution_count": null,
   "id": "edd390a1",
   "metadata": {},
   "outputs": [],
   "source": []
  },
  {
   "cell_type": "code",
   "execution_count": null,
   "id": "4f68a1e2",
   "metadata": {},
   "outputs": [],
   "source": []
  },
  {
   "cell_type": "code",
   "execution_count": null,
   "id": "c55423c8",
   "metadata": {},
   "outputs": [],
   "source": []
  },
  {
   "cell_type": "markdown",
   "id": "198da45b",
   "metadata": {},
   "source": [
    "### EDA Results\n",
    "\n",
    "Make note of your results here!\n",
    "\n",
    "1. How many reps are in each branch? North: 9, South: 11 \n",
    "2. What is the average busy minutes, not ready minutes, incoming wait time, and during call wait time for each branch?\n",
    "North Average busy minutes 9.987755102040817\n",
    "South Average buy minutes 10.054140127388536\n",
    "\n",
    "North not ready minutes 1.9142857142857144\n",
    "South not ready minutes 1.910828025477707\n",
    "\n",
    "North incoming wait time 3.048780487804878\n",
    "South incoming wait time 3.0764331210191083\n",
    "\n",
    "North during call wait time 2.9673469387755103\n",
    "South during call wait time 3.0764331210191083\n",
    "\n",
    "3. What is the number of calls taken for each time block?\n",
    "\n",
    "North: \n",
    "14     12:00 PM\n",
    "15      1:00 PM\n",
    "16      3:00 PM\n",
    "17      2:00 PM\n",
    "18     10:00 AM\n",
    "         ...   \n",
    "240     5:00 PM\n",
    "241     5:00 PM\n",
    "242     5:00 PM\n",
    "243     5:00 PM\n",
    "244     5:00 PM\n",
    "\n",
    "South: \n",
    "14      5:00 PM\n",
    "15     11:00 AM\n",
    "16     12:00 PM\n",
    "17      1:00 PM\n",
    "18      1:00 PM\n",
    "         ...   \n",
    "309     5:00 PM\n",
    "310     5:00 PM\n",
    "311     5:00 PM\n",
    "312     5:00 PM\n",
    "313     5:00 PM\n"
   ]
  },
  {
   "cell_type": "code",
   "execution_count": 63,
   "id": "10166451",
   "metadata": {},
   "outputs": [],
   "source": [
    "#is question 3 answered properly?"
   ]
  },
  {
   "cell_type": "markdown",
   "id": "ec92db6c",
   "metadata": {},
   "source": [
    "## Cleaning Data\n",
    "\n",
    "Now you need to clean up the datasets. When cleaning the datasets, you may find that there isn't dirty data to clean. That is okay! Some questions you need to answer about the data sets:\n",
    "\n",
    "1. Incoming wait time is null in many places. Do all of those places correspond to outgoing calls?\n",
    "2. In the North data set, there are two separate \"YES\" values for a sale. Why and how did you rectify the issue?\n",
    "3. Are there duplicates in the two data sets? If there are, how did you handle them?\n",
    "4. Is any of the data in the two data sets unnecessary? If yes, how did you handle it?"
   ]
  },
  {
   "cell_type": "code",
   "execution_count": 64,
   "id": "009cd16a",
   "metadata": {},
   "outputs": [
    {
     "name": "stdout",
     "output_type": "stream",
     "text": [
      "<class 'pandas.core.frame.DataFrame'>\n",
      "RangeIndex: 245 entries, 0 to 244\n",
      "Data columns (total 15 columns):\n",
      " #   Column                 Non-Null Count  Dtype  \n",
      "---  ------                 --------------  -----  \n",
      " 0   Unnamed: 0             245 non-null    int64  \n",
      " 1   Branch                 245 non-null    object \n",
      " 2   Call Purpose           245 non-null    object \n",
      " 3   Time Block             245 non-null    object \n",
      " 4   Incoming or Outgoing   245 non-null    object \n",
      " 5   Queue                  245 non-null    object \n",
      " 6   Rep ID                 245 non-null    object \n",
      " 7   Sale                   245 non-null    object \n",
      " 8   Lost Call              245 non-null    int64  \n",
      " 9   Abandoned              245 non-null    int64  \n",
      " 10  Busy Minutes           245 non-null    int64  \n",
      " 11  Not Ready Minutes      245 non-null    int64  \n",
      " 12  Incoming Wait Time     82 non-null     float64\n",
      " 13  During Call Wait Time  245 non-null    int64  \n",
      " 14  Calls                  245 non-null    int64  \n",
      "dtypes: float64(1), int64(7), object(7)\n",
      "memory usage: 28.8+ KB\n",
      "<class 'pandas.core.frame.DataFrame'>\n",
      "RangeIndex: 314 entries, 0 to 313\n",
      "Data columns (total 15 columns):\n",
      " #   Column                 Non-Null Count  Dtype  \n",
      "---  ------                 --------------  -----  \n",
      " 0   Unnamed: 0             314 non-null    int64  \n",
      " 1   Branch                 314 non-null    object \n",
      " 2   Call Purpose           314 non-null    object \n",
      " 3   Time Block             314 non-null    object \n",
      " 4   Incoming or Outgoing   314 non-null    object \n",
      " 5   Queue                  314 non-null    object \n",
      " 6   Rep ID                 314 non-null    object \n",
      " 7   Sale                   314 non-null    object \n",
      " 8   Lost Call              314 non-null    int64  \n",
      " 9   Abandoned              314 non-null    int64  \n",
      " 10  Busy Minutes           314 non-null    int64  \n",
      " 11  Not Ready Minutes      314 non-null    int64  \n",
      " 12  Incoming Wait Time     126 non-null    float64\n",
      " 13  During Call Wait Time  314 non-null    int64  \n",
      " 14  Calls                  314 non-null    int64  \n",
      "dtypes: float64(1), int64(7), object(7)\n",
      "memory usage: 36.9+ KB\n"
     ]
    }
   ],
   "source": [
    "north_df.info()\n",
    "south_df.info()"
   ]
  },
  {
   "cell_type": "code",
   "execution_count": 83,
   "id": "61b1a580",
   "metadata": {},
   "outputs": [
    {
     "data": {
      "text/html": [
       "<div>\n",
       "<style scoped>\n",
       "    .dataframe tbody tr th:only-of-type {\n",
       "        vertical-align: middle;\n",
       "    }\n",
       "\n",
       "    .dataframe tbody tr th {\n",
       "        vertical-align: top;\n",
       "    }\n",
       "\n",
       "    .dataframe thead th {\n",
       "        text-align: right;\n",
       "    }\n",
       "</style>\n",
       "<table border=\"1\" class=\"dataframe\">\n",
       "  <thead>\n",
       "    <tr style=\"text-align: right;\">\n",
       "      <th></th>\n",
       "      <th>Incoming Wait Time</th>\n",
       "      <th>Incoming or Outgoing</th>\n",
       "    </tr>\n",
       "  </thead>\n",
       "  <tbody>\n",
       "    <tr>\n",
       "      <th>0</th>\n",
       "      <td>1.0</td>\n",
       "      <td>Incoming</td>\n",
       "    </tr>\n",
       "    <tr>\n",
       "      <th>1</th>\n",
       "      <td>1.0</td>\n",
       "      <td>Incoming</td>\n",
       "    </tr>\n",
       "    <tr>\n",
       "      <th>2</th>\n",
       "      <td>1.0</td>\n",
       "      <td>Incoming</td>\n",
       "    </tr>\n",
       "    <tr>\n",
       "      <th>3</th>\n",
       "      <td>1.0</td>\n",
       "      <td>Incoming</td>\n",
       "    </tr>\n",
       "    <tr>\n",
       "      <th>4</th>\n",
       "      <td>1.0</td>\n",
       "      <td>Incoming</td>\n",
       "    </tr>\n",
       "    <tr>\n",
       "      <th>...</th>\n",
       "      <td>...</td>\n",
       "      <td>...</td>\n",
       "    </tr>\n",
       "    <tr>\n",
       "      <th>240</th>\n",
       "      <td>NaN</td>\n",
       "      <td>Outgoing</td>\n",
       "    </tr>\n",
       "    <tr>\n",
       "      <th>241</th>\n",
       "      <td>NaN</td>\n",
       "      <td>Outgoing</td>\n",
       "    </tr>\n",
       "    <tr>\n",
       "      <th>242</th>\n",
       "      <td>NaN</td>\n",
       "      <td>Outgoing</td>\n",
       "    </tr>\n",
       "    <tr>\n",
       "      <th>243</th>\n",
       "      <td>NaN</td>\n",
       "      <td>Outgoing</td>\n",
       "    </tr>\n",
       "    <tr>\n",
       "      <th>244</th>\n",
       "      <td>NaN</td>\n",
       "      <td>Outgoing</td>\n",
       "    </tr>\n",
       "  </tbody>\n",
       "</table>\n",
       "<p>245 rows × 2 columns</p>\n",
       "</div>"
      ],
      "text/plain": [
       "     Incoming Wait Time Incoming or Outgoing\n",
       "0                   1.0             Incoming\n",
       "1                   1.0             Incoming\n",
       "2                   1.0             Incoming\n",
       "3                   1.0             Incoming\n",
       "4                   1.0             Incoming\n",
       "..                  ...                  ...\n",
       "240                 NaN             Outgoing\n",
       "241                 NaN             Outgoing\n",
       "242                 NaN             Outgoing\n",
       "243                 NaN             Outgoing\n",
       "244                 NaN             Outgoing\n",
       "\n",
       "[245 rows x 2 columns]"
      ]
     },
     "execution_count": 83,
     "metadata": {},
     "output_type": "execute_result"
    }
   ],
   "source": [
    "#Trying to answer question 1 for Data Cleaning Section. Want to isolate columns \"Incoming or Outgoing [5]\\ \n",
    "#and \"Income Wait Time\" [13] to compare \"outgoing\" and \"null\" respectively. \n",
    "#n_outgoing_calls = north_df.index = [5,13] did not work \n",
    "#Df- a collection of one or several series objects\n",
    "#every column from the df is a series obj itself\n",
    "null_wait_north = north_df [['Incoming Wait Time', 'Incoming or Outgoing']]\n",
    "null_wait_north\n",
    "\n"
   ]
  },
  {
   "cell_type": "code",
   "execution_count": null,
   "id": "b50cfa8a",
   "metadata": {},
   "outputs": [],
   "source": [
    "# Clean your data here\n",
    "#numeric columns for north call center\n",
    "n_numeric_cols= north_df.select_dtypes(include =['number']).columns\n",
    "print (n_numeric_cols)"
   ]
  },
  {
   "cell_type": "code",
   "execution_count": null,
   "id": "b9ca9311",
   "metadata": {},
   "outputs": [],
   "source": [
    "#numeric columns for south call center \n",
    "s_numeric_cols = south_df.select_dtypes(include = ['number']).columns\n",
    "print (s_numeric_cols)"
   ]
  },
  {
   "cell_type": "code",
   "execution_count": null,
   "id": "c536caaf",
   "metadata": {},
   "outputs": [],
   "source": [
    "#North center non-numeric columns\n",
    "n_non_numeric_cols = north_df.select_dtypes(exclude =['number']).columns\n",
    "print (n_non_numeric_cols)"
   ]
  },
  {
   "cell_type": "code",
   "execution_count": null,
   "id": "2403dd8e",
   "metadata": {},
   "outputs": [],
   "source": [
    "#South center non-numeric columns\n",
    "s_non_numeric_cols = south_df.select_dtypes(exclude = ['number']).columns\n",
    "print (s_non_numeric_cols)"
   ]
  },
  {
   "cell_type": "code",
   "execution_count": null,
   "id": "fbaa4bc5",
   "metadata": {},
   "outputs": [],
   "source": [
    "#North center non-numeric columns null values\n",
    "north_df[n_non_numeric_cols].info()\n",
    "#no null values"
   ]
  },
  {
   "cell_type": "code",
   "execution_count": null,
   "id": "5d64b953",
   "metadata": {},
   "outputs": [],
   "source": [
    "#South center non-numeric columns\n",
    "south_df[s_non_numeric_cols].info()\n",
    "#no null values"
   ]
  },
  {
   "cell_type": "code",
   "execution_count": null,
   "id": "20759471",
   "metadata": {},
   "outputs": [],
   "source": [
    "north_df[n_numeric_cols].info()"
   ]
  },
  {
   "cell_type": "code",
   "execution_count": null,
   "id": "4bb16a90",
   "metadata": {},
   "outputs": [],
   "source": [
    "south_df[s_numeric_cols].info()"
   ]
  },
  {
   "cell_type": "code",
   "execution_count": null,
   "id": "76ac128c",
   "metadata": {},
   "outputs": [],
   "source": [
    "num_missing = north_df.isna().sum()\n",
    "num_missing"
   ]
  },
  {
   "cell_type": "code",
   "execution_count": null,
   "id": "43c674c1",
   "metadata": {},
   "outputs": [],
   "source": [
    "num_missing = south_df.isna().sum()\n",
    "num_missing"
   ]
  },
  {
   "cell_type": "code",
   "execution_count": null,
   "id": "6dcc5a59",
   "metadata": {},
   "outputs": [],
   "source": [
    "#need to use a command to sum the 'outgoing' calls from column \"Incoming or Outgoing\" to answer the first question below"
   ]
  },
  {
   "cell_type": "code",
   "execution_count": null,
   "id": "c4790fb5",
   "metadata": {},
   "outputs": [],
   "source": [
    "#North Call Center without Incoming Wait Time, as this column was missing more than 50% of its values  \n",
    "pct_missing = north_df.isna().mean()\n",
    "\n",
    "pct_missing[pct_missing < .5]\n",
    "north_df_less_missing_cols = north_df.loc[:, pct_missing <=.5].copy()\n",
    "north_df_less_missing_cols"
   ]
  },
  {
   "cell_type": "code",
   "execution_count": null,
   "id": "7810bf9e",
   "metadata": {},
   "outputs": [],
   "source": [
    "#South Call Center without Incoming Wait Time, as this column was missing more than 50% of its values  \n",
    "pct_missing = south_df.isna().mean()\n",
    "\n",
    "pct_missing[pct_missing < .5]\n",
    "south_df_less_missing_cols = south_df.loc[:, pct_missing <=.5].copy()\n",
    "south_df_less_missing_cols"
   ]
  },
  {
   "cell_type": "code",
   "execution_count": null,
   "id": "6613dfad",
   "metadata": {},
   "outputs": [],
   "source": [
    "#Unneccessary North Center Data, as determined by dropping rows with over 99.9% rows being same value\n",
    "num_rows = len (north_df)\n",
    "\n",
    "for col in north_df.columns:\n",
    "    n_cnts = north_df[col].value_counts(dropna=False)\n",
    "    n_top_pct = (n_cnts/num_rows).iloc[0]\n",
    "    \n",
    "    if n_top_pct > 0.999:\n",
    "        print ('{0}: {1:.2f}%.format(col, n_top_pct*100)')\n",
    "        print (n_cnts)\n",
    "        print()\n",
    "#Columns \"Branch\" and \"Calls\" were dropped as deemed unnnecessary due to having over 99.9% of the same values \n",
    "#in each row."
   ]
  },
  {
   "cell_type": "code",
   "execution_count": null,
   "id": "cbec7006",
   "metadata": {},
   "outputs": [],
   "source": [
    "#Unneccessary South Center Data, as determined by dropping rows with over 99.9% rows being same value\n",
    "num_rows = len (south_df)\n",
    "\n",
    "for col in south_df.columns:\n",
    "    s_cnts = south_df[col].value_counts(dropna=False)\n",
    "    s_top_pct = (s_cnts/num_rows).iloc[0]\n",
    "    \n",
    "    if s_top_pct > 0.999:\n",
    "        print ('{0}: {1:.2f}%.format(col, s_top_pct*100)')\n",
    "        print (s_cnts)\n",
    "        print()\n",
    " #Columns \"Branch\" and \"Calls\" were dropped as deemed unnnecessary due to having over 99.9% of the same values \n",
    "#in each row."
   ]
  },
  {
   "cell_type": "code",
   "execution_count": null,
   "id": "02d5c36d",
   "metadata": {},
   "outputs": [],
   "source": [
    "\n"
   ]
  },
  {
   "cell_type": "markdown",
   "id": "79e80da0",
   "metadata": {},
   "source": [
    "### Cleaning Data Results\n",
    "\n",
    "Make note of your results!\n",
    "\n",
    "1. Incoming wait time is null in many places. Do all of those places correspond to outgoing calls?\n",
    "2. In the North data set, there are two separate \"YES\" values for a sale. Why and how did you rectify the issue?\n",
    "3. Are there duplicates in the two data sets? If there are, how did you handle them?\n",
    "4. Is any of the data in the two data sets unnecessary? If yes, how did you handle it?\n",
    "Unnecessary data — repetitive data, duplicates, and more\n",
    "Columns \"Branch\" and \"Calls\" in both North Center and South Center df were deemed unnecessary due to having over 99.9% of rows containing same values.\n",
    "Column \"Incoming Wait Time was dropped from South Center and North Center df due to this column missing more than 50% of its values. "
   ]
  },
  {
   "cell_type": "markdown",
   "id": "4820fb7d",
   "metadata": {},
   "source": [
    "## Data Manipulation\n",
    "\n",
    "Before you begin answering any questions, combine the two datasets together to create a third dataframe called `df`. You can use this third dataframe to compare the two call centers to company-wide trends.\n",
    "\n",
    "1. Group by Rep ID and sum the resulting structure. Sort by calls to determine which rep in each branch has the highest number of calls.\n",
    "2. The average call abandonment rate is a KPI when it comes to determining call center efficiency. As you may recall, abandoned calls are calls where the customer hangs up due to long call times. What is the average call abandonment rate for each branch and the whole company? Do any of these fall out of the optimal range of 2-5%?\n",
    "3. Service level is another KPI when it comes to measuring call center efficiency. Service level is the percentage of calls answered within a specific number of seconds. In the case of your employer, their ideal time frame is 2 seconds. What is the percentage of calls answered within 2 seconds for each branch and the entire company?\n",
    "4. For each branch and the entire company, what is the average speed of answer?"
   ]
  },
  {
   "cell_type": "code",
   "execution_count": null,
   "id": "ea8fe600",
   "metadata": {},
   "outputs": [],
   "source": [
    "# Manipulate data here"
   ]
  },
  {
   "cell_type": "markdown",
   "id": "7719da42",
   "metadata": {},
   "source": [
    "### Data Manipulation Results\n",
    "\n",
    "1. Group by Rep ID and sum the resulting structure. Sort by calls to determine which rep in each branch has the highest number of calls.\n",
    "2. The average call abandonment rate is a KPI when it comes to determining call center efficiency. As you may recall, abandoned calls are calls where the customer hangs up due to long call times. What is the average call abandonment rate for each branch and the whole company? Do any of these fall out of the optimal range of 2-5%?\n",
    "3. Service level is another KPI when it comes to measuring call center efficiency. Service level is the percentage of calls answered within a specific number of seconds. In the case of your employer, their ideal time frame is 2 seconds. What is the percentage of calls answered within 2 seconds for each company and the entire company?\n",
    "4. For each branch and the entire company, what is the average speed of answer?"
   ]
  },
  {
   "cell_type": "markdown",
   "id": "d816d6a2",
   "metadata": {},
   "source": [
    "## Visualization\n",
    "\n",
    "Create a visualization for each of the following questions. Some of the code to handle aggregating and storing data may be written for you. For each visualization, you choose the chart style that you feel suits the situation best. Make note of the chart style you chose and why.\n",
    "\n",
    "1. What is the average abandonment rate per queue?\n",
    "2. What is the service level and average speed of answer per each rep?\n",
    "3. For each type of call purpose, how many calls are outgoing vs. incoming?"
   ]
  },
  {
   "cell_type": "code",
   "execution_count": null,
   "id": "5ce6b0f1",
   "metadata": {},
   "outputs": [],
   "source": [
    "# Create visualization 1 here\n",
    "# The dictionary abandonment_rates has the data you need.\n",
    "\n",
    "abandonment_rates = {}\n",
    "queues = [\"A\", \"B\", \"C\", \"D\"]\n",
    "queue_dict = df.groupby(\"Queue\").agg(\"sum\")\n",
    "for i in range(4):\n",
    "    abandonment_rates[queues[i]] = queue_dict[\"Abandoned\"][i] / queue_dict[\"Calls\"][i] "
   ]
  },
  {
   "cell_type": "code",
   "execution_count": null,
   "id": "824943f3",
   "metadata": {},
   "outputs": [],
   "source": [
    "# Create visualization 2 here\n",
    "# north_plt contains the data you need for the average speed of answer of each rep\n",
    "\n",
    "north_plt = north.groupby(\"Rep ID\")[\"Incoming Wait Time\"].mean().to_frame().reset_index()\n",
    "\n",
    "# Finding each Rep's Personal Service Level Percentage.  Basically, Calls within 2 secs / total calls\n",
    "\n",
    "# Table 1: Total Incoming calls less than 2 seconds grouped by Rep\n",
    "quick_calls = north[north[\"Incoming Wait Time\"] <= 2.0]\n",
    "quick_reps = quick_calls[[\"Rep ID\", \"Calls\"]]\n",
    "quick_stats = quick_reps.groupby([\"Rep ID\"]).sum()  # Final Table\n",
    "\n",
    "\n",
    "# Table 2: Total Incoming Calls Only grouped by Rep\n",
    "total_calls_in = north[north[\"Incoming or Outgoing\"] == \"Incoming\"]\n",
    "rep_calls = total_calls_in[[\"Rep ID\", \"Calls\"]]     \n",
    "total_stats = rep_calls.groupby([\"Rep ID\"]).sum() # Final Table  \n",
    "\n",
    "#  Table 3: Service Level Percentage created via merge\n",
    "service_level = pd.merge(quick_stats, total_stats, on=\"Rep ID\")\n",
    "\n",
    "# Create Percentage Column in Table 3\n",
    "service_level[\"Service Level %\"] = service_level[\"Calls_x\"]/service_level[\"Calls_y\"] * 100"
   ]
  },
  {
   "cell_type": "code",
   "execution_count": null,
   "id": "d3d77a58",
   "metadata": {},
   "outputs": [],
   "source": [
    "# Create visualization 3 here\n",
    "# The three dictionaries, complaints, sales_support, and product_support, have the information you need\n",
    "\n",
    "purpose_counts = purpose_group[\"Incoming or Outgoing\"].value_counts()\n",
    "complaints = purpose_counts[\"Complaint\"].to_dict()\n",
    "sales_support = purpose_counts[\"Sales Support\"].to_dict()\n",
    "product_support = purpose_counts[\"Product Support\"].to_dict()"
   ]
  },
  {
   "cell_type": "markdown",
   "id": "09d471fc",
   "metadata": {},
   "source": [
    "### Visualization Results\n",
    "\n",
    "For each chart you created, explain why you chose the chart style you chose."
   ]
  },
  {
   "cell_type": "markdown",
   "id": "60770519",
   "metadata": {},
   "source": [
    "## Summarize Your Work\n",
    "\n",
    "With what you know now about the two call centers and the entire company, answer the following questions. Note that while this is subjective, you should include relevant data to back up your opinion.\n",
    "\n",
    "1. Using KPIs such as average abandonment rate, service level and average speed of answer, in your opinion, which one of the two branches is operating more efficiently? Why?\n",
    "2. Based on the number of reps in each branch and how quickly the reps are working, in your opinion, which branch would benefit from the extra help?\n",
    "3. Now that you have explored the datasets, is there any data or information that you wish you had in this analysis?"
   ]
  },
  {
   "cell_type": "markdown",
   "id": "76619a15",
   "metadata": {},
   "source": [
    "## Submit Your Work\n",
    "\n",
    "After you have completed your work on the assignment, push your work to your Github repo. Navigate to the repo, copy the link to your assignment and paste the URL in the Canvas assignment's submission box. "
   ]
  },
  {
   "cell_type": "markdown",
   "id": "cc90141d",
   "metadata": {},
   "source": [
    "## Bonus Mission\n",
    "\n",
    "Create a visualization that answers this question:\n",
    "\n",
    "1. For each call purpose, how many calls (incoming and outgoing) take place in each time block?"
   ]
  },
  {
   "cell_type": "code",
   "execution_count": null,
   "id": "e9d48ce7",
   "metadata": {},
   "outputs": [],
   "source": [
    "# Create your visualization here!\n",
    "call_times = df[[\"Time Block\", \"Call Purpose\", \"Incoming or Outgoing\", \"Calls\"]]\n",
    "\n",
    "# Use groupby to plot based on time blocks:\n",
    "\n",
    "# Use groupby and get_group to select which call purpose to plot:\n"
   ]
  }
 ],
 "metadata": {
  "kernelspec": {
   "display_name": "Python 3 (ipykernel)",
   "language": "python",
   "name": "python3"
  },
  "language_info": {
   "codemirror_mode": {
    "name": "ipython",
    "version": 3
   },
   "file_extension": ".py",
   "mimetype": "text/x-python",
   "name": "python",
   "nbconvert_exporter": "python",
   "pygments_lexer": "ipython3",
   "version": "3.9.7"
  }
 },
 "nbformat": 4,
 "nbformat_minor": 5
}
